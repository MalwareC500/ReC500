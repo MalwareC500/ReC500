{
 "cells": [
  {
   "cell_type": "code",
   "execution_count": 1,
   "metadata": {},
   "outputs": [],
   "source": [
    "import numpy as np\n",
    "import pandas as pd"
   ]
  },
  {
   "cell_type": "code",
   "execution_count": 2,
   "metadata": {},
   "outputs": [
    {
     "output_type": "execute_result",
     "data": {
      "text/plain": "          orderid     shopid     userid           event_time\n0  31076582227611   93950878   30530270  2019-12-27 00:23:03\n1  31118059853484  156423439   46057927  2019-12-27 11:54:20\n2  31123355095755  173699291   67341739  2019-12-27 13:22:35\n3  31122059872723   63674025  149380322  2019-12-27 13:01:00\n4  31117075665123  127249066  149493217  2019-12-27 11:37:55",
      "text/html": "<div>\n<style scoped>\n    .dataframe tbody tr th:only-of-type {\n        vertical-align: middle;\n    }\n\n    .dataframe tbody tr th {\n        vertical-align: top;\n    }\n\n    .dataframe thead th {\n        text-align: right;\n    }\n</style>\n<table border=\"1\" class=\"dataframe\">\n  <thead>\n    <tr style=\"text-align: right;\">\n      <th></th>\n      <th>orderid</th>\n      <th>shopid</th>\n      <th>userid</th>\n      <th>event_time</th>\n    </tr>\n  </thead>\n  <tbody>\n    <tr>\n      <th>0</th>\n      <td>31076582227611</td>\n      <td>93950878</td>\n      <td>30530270</td>\n      <td>2019-12-27 00:23:03</td>\n    </tr>\n    <tr>\n      <th>1</th>\n      <td>31118059853484</td>\n      <td>156423439</td>\n      <td>46057927</td>\n      <td>2019-12-27 11:54:20</td>\n    </tr>\n    <tr>\n      <th>2</th>\n      <td>31123355095755</td>\n      <td>173699291</td>\n      <td>67341739</td>\n      <td>2019-12-27 13:22:35</td>\n    </tr>\n    <tr>\n      <th>3</th>\n      <td>31122059872723</td>\n      <td>63674025</td>\n      <td>149380322</td>\n      <td>2019-12-27 13:01:00</td>\n    </tr>\n    <tr>\n      <th>4</th>\n      <td>31117075665123</td>\n      <td>127249066</td>\n      <td>149493217</td>\n      <td>2019-12-27 11:37:55</td>\n    </tr>\n  </tbody>\n</table>\n</div>"
     },
     "metadata": {},
     "execution_count": 2
    }
   ],
   "source": [
    "data = pd.read_csv('order_brush_order.csv')\n",
    "data.head()"
   ]
  },
  {
   "cell_type": "code",
   "execution_count": 3,
   "metadata": {},
   "outputs": [
    {
     "output_type": "execute_result",
     "data": {
      "text/plain": "          orderid     shopid     userid    event_time\n0  31076582227611   93950878   30530270  1.577406e+09\n1  31118059853484  156423439   46057927  1.577448e+09\n2  31123355095755  173699291   67341739  1.577453e+09\n3  31122059872723   63674025  149380322  1.577452e+09\n4  31117075665123  127249066  149493217  1.577447e+09",
      "text/html": "<div>\n<style scoped>\n    .dataframe tbody tr th:only-of-type {\n        vertical-align: middle;\n    }\n\n    .dataframe tbody tr th {\n        vertical-align: top;\n    }\n\n    .dataframe thead th {\n        text-align: right;\n    }\n</style>\n<table border=\"1\" class=\"dataframe\">\n  <thead>\n    <tr style=\"text-align: right;\">\n      <th></th>\n      <th>orderid</th>\n      <th>shopid</th>\n      <th>userid</th>\n      <th>event_time</th>\n    </tr>\n  </thead>\n  <tbody>\n    <tr>\n      <th>0</th>\n      <td>31076582227611</td>\n      <td>93950878</td>\n      <td>30530270</td>\n      <td>1.577406e+09</td>\n    </tr>\n    <tr>\n      <th>1</th>\n      <td>31118059853484</td>\n      <td>156423439</td>\n      <td>46057927</td>\n      <td>1.577448e+09</td>\n    </tr>\n    <tr>\n      <th>2</th>\n      <td>31123355095755</td>\n      <td>173699291</td>\n      <td>67341739</td>\n      <td>1.577453e+09</td>\n    </tr>\n    <tr>\n      <th>3</th>\n      <td>31122059872723</td>\n      <td>63674025</td>\n      <td>149380322</td>\n      <td>1.577452e+09</td>\n    </tr>\n    <tr>\n      <th>4</th>\n      <td>31117075665123</td>\n      <td>127249066</td>\n      <td>149493217</td>\n      <td>1.577447e+09</td>\n    </tr>\n  </tbody>\n</table>\n</div>"
     },
     "metadata": {},
     "execution_count": 3
    }
   ],
   "source": [
    "data['event_time'] = data['event_time'].apply(lambda x: pd.Timestamp(x).timestamp())\n",
    "data.head()"
   ]
  },
  {
   "cell_type": "code",
   "execution_count": 4,
   "metadata": {},
   "outputs": [
    {
     "output_type": "execute_result",
     "data": {
      "text/plain": "        shopid     userid    event_time\n59       10009  196962305  1.577416e+09\n76187    10051    2854032  1.577474e+09\n9055     10051   48600461  1.577585e+09\n188513   10061  168750452  1.577525e+09\n174620   10061  194819216  1.577535e+09\n200439   10061  130633421  1.577742e+09\n145426   10061   62464559  1.577761e+09\n167859   10084    4401933  1.577405e+09\n178051   10084   13837190  1.577407e+09\n91837    10084   39828049  1.577409e+09",
      "text/html": "<div>\n<style scoped>\n    .dataframe tbody tr th:only-of-type {\n        vertical-align: middle;\n    }\n\n    .dataframe tbody tr th {\n        vertical-align: top;\n    }\n\n    .dataframe thead th {\n        text-align: right;\n    }\n</style>\n<table border=\"1\" class=\"dataframe\">\n  <thead>\n    <tr style=\"text-align: right;\">\n      <th></th>\n      <th>shopid</th>\n      <th>userid</th>\n      <th>event_time</th>\n    </tr>\n  </thead>\n  <tbody>\n    <tr>\n      <th>59</th>\n      <td>10009</td>\n      <td>196962305</td>\n      <td>1.577416e+09</td>\n    </tr>\n    <tr>\n      <th>76187</th>\n      <td>10051</td>\n      <td>2854032</td>\n      <td>1.577474e+09</td>\n    </tr>\n    <tr>\n      <th>9055</th>\n      <td>10051</td>\n      <td>48600461</td>\n      <td>1.577585e+09</td>\n    </tr>\n    <tr>\n      <th>188513</th>\n      <td>10061</td>\n      <td>168750452</td>\n      <td>1.577525e+09</td>\n    </tr>\n    <tr>\n      <th>174620</th>\n      <td>10061</td>\n      <td>194819216</td>\n      <td>1.577535e+09</td>\n    </tr>\n    <tr>\n      <th>200439</th>\n      <td>10061</td>\n      <td>130633421</td>\n      <td>1.577742e+09</td>\n    </tr>\n    <tr>\n      <th>145426</th>\n      <td>10061</td>\n      <td>62464559</td>\n      <td>1.577761e+09</td>\n    </tr>\n    <tr>\n      <th>167859</th>\n      <td>10084</td>\n      <td>4401933</td>\n      <td>1.577405e+09</td>\n    </tr>\n    <tr>\n      <th>178051</th>\n      <td>10084</td>\n      <td>13837190</td>\n      <td>1.577407e+09</td>\n    </tr>\n    <tr>\n      <th>91837</th>\n      <td>10084</td>\n      <td>39828049</td>\n      <td>1.577409e+09</td>\n    </tr>\n  </tbody>\n</table>\n</div>"
     },
     "metadata": {},
     "execution_count": 4
    }
   ],
   "source": [
    "data = data.drop(columns='orderid')\n",
    "data = data.sort_values(by=['shopid', 'event_time'])\n",
    "data.head(10)"
   ]
  },
  {
   "cell_type": "code",
   "execution_count": 53,
   "metadata": {
    "tags": [
     "outputPrepend",
     "outputPrepend"
    ]
   },
   "outputs": [],
   "source": [
    "arr = data.values\n",
    "out = dict()\n",
    "temp = dict()\n",
    "for row in range(len(arr)):\n",
    "    out[arr[row][0]] = 0\n",
    "for row in range(len(arr)):\n",
    "    user = dict()\n",
    "    user[arr[row][1]] = user.get(arr[row][1], 0) + 1\n",
    "    order = row + 1\n",
    "    while order < len(arr) and arr[order][0] == arr[row][0] and arr[order][2] <= arr[row][2] + 3600:\n",
    "        user[arr[order][1]] = user.get(arr[order][1], 0) + 1\n",
    "        order += 1\n",
    "    score = (order - row) / len(user)\n",
    "    user = dict(sorted(user.items(), key=lambda kv: kv[1], reverse=True))\n",
    "    s = 0\n",
    "    if score >= 3:\n",
    "        for k, v in user.items():\n",
    "            s += v\n",
    "        for k, v in user.items():\n",
    "            first = k\n",
    "            break\n",
    "        for k, v in user.items():\n",
    "            if v == user[first]:\n",
    "                temp[k] = v / s\n",
    "    if row + 1 < len(arr) and arr[row][0] != arr[row + 1][0] and len(temp) > 0:\n",
    "        temp = dict(sorted(temp.items(), key=lambda kv: kv[1], reverse=True))\n",
    "        for k, v in temp.items():\n",
    "            first = k\n",
    "            break\n",
    "        user_arr = list()\n",
    "        for k, v in temp.items():\n",
    "            if v == temp[first]:\n",
    "                user_arr.append(int(k))\n",
    "        user_arr = sorted(user_arr)\n",
    "        for i in user_arr:\n",
    "            out[arr[row][0]] = f'{out[arr[row][0]]}&{i}'\n",
    "        out[arr[row][0]] = out[arr[row][0]][2:]\n",
    "        temp = dict()\n",
    "output = list()\n",
    "for k, v in out.items():\n",
    "    output.append([int(k), v])\n",
    "pd.DataFrame(output).to_csv('submission.csv', header=['shopid', 'userid'], index=None)\n",
    "    "
   ]
  }
 ],
 "metadata": {
  "language_info": {
   "codemirror_mode": {
    "name": "ipython",
    "version": 3
   },
   "file_extension": ".py",
   "mimetype": "text/x-python",
   "name": "python",
   "nbconvert_exporter": "python",
   "pygments_lexer": "ipython3",
   "version": "3.7.7-final"
  },
  "orig_nbformat": 2,
  "kernelspec": {
   "name": "python37764bit2160135b6abb403eaf2bb0621055ce69",
   "display_name": "Python 3.7.7 64-bit"
  }
 },
 "nbformat": 4,
 "nbformat_minor": 2
}